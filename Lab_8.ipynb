{
  "nbformat": 4,
  "nbformat_minor": 0,
  "metadata": {
    "colab": {
      "provenance": []
    },
    "kernelspec": {
      "name": "python3",
      "display_name": "Python 3"
    },
    "language_info": {
      "name": "python"
    }
  },
  "cells": [
    {
      "cell_type": "code",
      "execution_count": null,
      "metadata": {
        "colab": {
          "base_uri": "https://localhost:8080/"
        },
        "id": "2TZuDuLlnRhZ",
        "outputId": "af1eeb66-9e31-4eee-be0c-f84bb1f23c06"
      },
      "outputs": [
        {
          "output_type": "execute_result",
          "data": {
            "text/plain": [
              "numpy.ndarray"
            ]
          },
          "metadata": {},
          "execution_count": 2
        }
      ],
      "source": [
        "import numpy as np\n",
        "num = np.array([10,20,30])\n",
        "num\n",
        "type(num)\n"
      ]
    },
    {
      "cell_type": "code",
      "source": [
        "array_1D= np.array([2,4,5,6])\n",
        "array_1D\n",
        "array_2D= np.array([[2,4,5,6],[2,4,5,6],[2,4,5,6]])\n",
        "array_2D"
      ],
      "metadata": {
        "colab": {
          "base_uri": "https://localhost:8080/"
        },
        "id": "B9q6ZzcLzfAs",
        "outputId": "9fd31fc9-9b1f-46ff-8d66-e2a3ad94aa1b"
      },
      "execution_count": null,
      "outputs": [
        {
          "output_type": "execute_result",
          "data": {
            "text/plain": [
              "array([[2, 4, 5, 6],\n",
              "       [2, 4, 5, 6],\n",
              "       [2, 4, 5, 6]])"
            ]
          },
          "metadata": {},
          "execution_count": 3
        }
      ]
    },
    {
      "cell_type": "code",
      "source": [
        "import numpy as np\n",
        "output = np.array([[x for x in range(2, 21, 2)], [x for x in range(1, 20, 2)]])\n",
        "print(output)\n",
        "print(output.dtype)\n",
        "print(output.ndim)\n",
        "print(output.shape)\n",
        "print(output.size)\n",
        "print(output.itemsize)\n"
      ],
      "metadata": {
        "colab": {
          "base_uri": "https://localhost:8080/"
        },
        "id": "0wyHvcFP0KFA",
        "outputId": "64665513-4fe5-42e7-b4fb-63b0d0531aff"
      },
      "execution_count": null,
      "outputs": [
        {
          "output_type": "stream",
          "name": "stdout",
          "text": [
            "[[ 2  4  6  8 10 12 14 16 18 20]\n",
            " [ 1  3  5  7  9 11 13 15 17 19]]\n",
            "int64\n",
            "2\n",
            "(2, 10)\n",
            "20\n",
            "8\n"
          ]
        }
      ]
    },
    {
      "cell_type": "code",
      "source": [
        "import numpy as np\n",
        "\n",
        "output = np.array([[87,96,70],[100,87,90],[94,77,90],[100,81,82]])\n",
        "\n",
        "print(\"Array:\")\n",
        "print(output)\n",
        "print(output.max())\n",
        "print(output.min())\n",
        "print(output.sum())\n",
        "print(output.std())\n",
        "print(output.mean())\n",
        "print(output.var())\n",
        "print(output.mean(axis=0))\n",
        "print(output.mean(axis=1))\n"
      ],
      "metadata": {
        "colab": {
          "base_uri": "https://localhost:8080/"
        },
        "id": "RFnPeD6J2Sk9",
        "outputId": "c86075db-be87-4c0e-a59c-3554f6c16d7b"
      },
      "execution_count": null,
      "outputs": [
        {
          "output_type": "stream",
          "name": "stdout",
          "text": [
            "Array:\n",
            "[[ 87  96  70]\n",
            " [100  87  90]\n",
            " [ 94  77  90]\n",
            " [100  81  82]]\n",
            "100\n",
            "70\n",
            "1054\n",
            "8.792357792739987\n",
            "87.83333333333333\n",
            "77.30555555555556\n",
            "[95.25 85.25 83.  ]\n",
            "[84.33333333 92.33333333 87.         87.66666667]\n"
          ]
        }
      ]
    },
    {
      "cell_type": "code",
      "source": [
        "import numpy as np\n",
        "ary=np.array([[1,2,3],[4,5,6]])\n",
        "ary\n",
        "ary>5\n",
        "ary<=5\n",
        "ary==5"
      ],
      "metadata": {
        "colab": {
          "base_uri": "https://localhost:8080/"
        },
        "id": "M3rh9Vyn3XU3",
        "outputId": "1eaaef79-3db4-4f7d-e0c8-920eb333d2c8"
      },
      "execution_count": null,
      "outputs": [
        {
          "output_type": "execute_result",
          "data": {
            "text/plain": [
              "array([[False, False, False],\n",
              "       [False,  True, False]])"
            ]
          },
          "metadata": {},
          "execution_count": 22
        }
      ]
    },
    {
      "cell_type": "code",
      "source": [
        "import numpy as np\n",
        "num1= np.arange(1,6)\n",
        "num1\n",
        "\n",
        "num2= num1.view()\n",
        "num2\n",
        "print(id(num1))\n",
        "print(id(num2))\n",
        "num2[1]*=5\n",
        "num1\n",
        "num2"
      ],
      "metadata": {
        "colab": {
          "base_uri": "https://localhost:8080/"
        },
        "id": "wySArWvh3tNf",
        "outputId": "3dc03746-03a5-4d9b-8b12-1a1cc7de8856"
      },
      "execution_count": null,
      "outputs": [
        {
          "output_type": "stream",
          "name": "stdout",
          "text": [
            "138854901840464\n",
            "138854901841424\n"
          ]
        },
        {
          "output_type": "execute_result",
          "data": {
            "text/plain": [
              "array([ 1, 10,  3,  4,  5])"
            ]
          },
          "metadata": {},
          "execution_count": 24
        }
      ]
    },
    {
      "cell_type": "code",
      "source": [
        "import numpy as np\n",
        "num1= np.arange(1,6)\n",
        "num1\n",
        "\n",
        "num2= num1.copy()\n",
        "num2\n",
        "\n",
        "num2[1]*=5\n",
        "num1\n",
        "num2"
      ],
      "metadata": {
        "colab": {
          "base_uri": "https://localhost:8080/"
        },
        "id": "5C7n4UZX4W2N",
        "outputId": "d629c2b7-7f4b-47b2-d79a-31a3bb6d855f"
      },
      "execution_count": null,
      "outputs": [
        {
          "output_type": "execute_result",
          "data": {
            "text/plain": [
              "array([ 1, 10,  3,  4,  5])"
            ]
          },
          "metadata": {},
          "execution_count": 25
        }
      ]
    },
    {
      "cell_type": "code",
      "source": [
        "\n",
        "score = [85, 90, 78, 92, 88]\n",
        "score = np.array(score,dtype=\"f\")\n",
        "\n",
        "score1 = score.copy()\n",
        "score1 =score1+5\n",
        "\n",
        "\n",
        "print(score)\n",
        "print(score1)\n",
        "score=np.where(score1>85)\n",
        "print(score)\n",
        "\n"
      ],
      "metadata": {
        "colab": {
          "base_uri": "https://localhost:8080/"
        },
        "id": "02r0loaR5i0A",
        "outputId": "cbc6997c-4352-4f16-f618-59a7d1df4da2"
      },
      "execution_count": null,
      "outputs": [
        {
          "output_type": "stream",
          "name": "stdout",
          "text": [
            "[85. 90. 78. 92. 88.]\n",
            "[90. 95. 83. 97. 93.]\n",
            "(array([0, 1, 3, 4]),)\n"
          ]
        }
      ]
    }
  ]
}