{
  "nbformat": 4,
  "nbformat_minor": 0,
  "metadata": {
    "colab": {
      "provenance": []
    },
    "kernelspec": {
      "name": "python3",
      "display_name": "Python 3"
    },
    "language_info": {
      "name": "python"
    }
  },
  "cells": [
    {
      "cell_type": "code",
      "execution_count": null,
      "metadata": {
        "colab": {
          "base_uri": "https://localhost:8080/"
        },
        "id": "BF0ao_qyjKJ2",
        "outputId": "dcd1fffd-888f-4176-da5a-90bfc4ccc2f0"
      },
      "outputs": [
        {
          "output_type": "stream",
          "name": "stdout",
          "text": [
            "Raduan 1839\n",
            "Raduan\n"
          ]
        }
      ],
      "source": [
        "class Student:\n",
        "    def __init__(self,a,id) :\n",
        "        self.name = a\n",
        "        self.id = id\n",
        "\n",
        "    def display(self) :\n",
        "        print(self.name,self.id)\n",
        "\n",
        "S1 = Student(\"Raduan\",1839)\n",
        "S1.display()\n",
        "print(S1.name)"
      ]
    },
    {
      "cell_type": "code",
      "source": [
        "class shape :\n",
        "  def __init__(self,name):\n",
        "    self._name=name\n",
        "  def get_name(self):\n",
        "    print(self.name)\n",
        "  def __display_shape_type(self):\n",
        "    print(f\"This is a shape of type:{self._name}\")\n",
        "  def display_shape_info(self):\n",
        "    self.__display_shape_type()"
      ],
      "metadata": {
        "id": "I-qklRI-neBq"
      },
      "execution_count": null,
      "outputs": []
    },
    {
      "cell_type": "code",
      "source": [
        "class rectangle(shape):\n",
        "  def __init__(self,length,width) :\n",
        "    shape.__init__(self,\"rectangle\")\n",
        "    self.__length = length\n",
        "    self.__width = width\n",
        "\n",
        "  def get_length(self):\n",
        "    print(self.__length)\n",
        "  def get_width(self):\n",
        "    print(self.__width)\n",
        "\n",
        "  def area(self):\n",
        "    print(self.__length*self.__width)\n",
        "  def perimeter(self):\n",
        "    print((self.__length+self.__width)*2)\n",
        "\n",
        "r1 = rectangle(12,6)\n",
        "r1.area()\n",
        "r1.perimeter()\n",
        "r1.display_shape_info()\n",
        "#r1.__display_shape_type()\n"
      ],
      "metadata": {
        "colab": {
          "base_uri": "https://localhost:8080/"
        },
        "id": "vui6uFcuk-kl",
        "outputId": "5f3a9781-6f86-404b-b7ea-2debb83c0827"
      },
      "execution_count": null,
      "outputs": [
        {
          "output_type": "stream",
          "name": "stdout",
          "text": [
            "72\n",
            "36\n",
            "This is a shape of type:rectangle\n"
          ]
        }
      ]
    }
  ]
}