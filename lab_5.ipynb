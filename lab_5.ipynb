{
  "nbformat": 4,
  "nbformat_minor": 0,
  "metadata": {
    "colab": {
      "provenance": []
    },
    "kernelspec": {
      "name": "python3",
      "display_name": "Python 3"
    },
    "language_info": {
      "name": "python"
    }
  },
  "cells": [
    {
      "cell_type": "code",
      "execution_count": null,
      "metadata": {
        "colab": {
          "base_uri": "https://localhost:8080/"
        },
        "id": "K4XHtuwFWO80",
        "outputId": "b6b9bf40-0d12-4d52-f991-a8a575bf3d4a"
      },
      "outputs": [
        {
          "output_type": "stream",
          "name": "stdout",
          "text": [
            "congate:hellob2b2b23g3g       \n"
          ]
        }
      ],
      "source": [
        "a = \"hello\"\n",
        "b = \"b2b2b2\"\n",
        "c = \"3g3g       \"\n",
        "\n",
        "d=a+b+c\n",
        "print(f'congate:{d}')"
      ]
    },
    {
      "cell_type": "code",
      "source": [
        "a = \"hello\"\n",
        "b = \"b2b2b2\"\n",
        "c = \"3g3g       \"\n",
        "\n",
        "d=a+\" \"+b+\" \"+c\n",
        "print(f'congate:{d}')\n",
        "print(len(d))\n",
        "print (f'slice:{d[:-3]}')\n",
        "print(len(d),d[:-3],d[::-1])\n",
        "print(d.upper())\n",
        "print(d.lower())\n",
        "print(d.title())\n",
        "print(d.isdigit())\n",
        "print(d.strip())\n",
        "print(d.capitalize())\n",
        "print(d.replace(\"hello\",\"python\"))\n",
        "print(d.split())\n",
        "if \"a2\" in d:\n",
        "  print(\"RaduanAhamed\")"
      ],
      "metadata": {
        "colab": {
          "base_uri": "https://localhost:8080/",
          "height": 384
        },
        "id": "5AV0DWiiX5hR",
        "outputId": "3fa26d02-a237-4ce1-acb4-0e1974761cf7"
      },
      "execution_count": null,
      "outputs": [
        {
          "output_type": "stream",
          "name": "stdout",
          "text": [
            "congate:hello b2b2b2 3g3g       \n",
            "24\n",
            "slice:hello b2b2b2 3g3g    \n",
            "24 hello b2b2b2 3g3g            g3g3 2b2b2b olleh\n",
            "HELLO B2B2B2 3G3G       \n",
            "hello b2b2b2 3g3g       \n",
            "Hello B2B2B2 3G3G       \n",
            "False\n",
            "hello b2b2b2 3g3g\n",
            "Hello b2b2b2 3g3g       \n",
            "python b2b2b2 3g3g       \n",
            "['hello', 'b2b2b2', '3g3g']\n"
          ]
        },
        {
          "output_type": "error",
          "ename": "NameError",
          "evalue": "name 'Print' is not defined",
          "traceback": [
            "\u001b[0;31m---------------------------------------------------------------------------\u001b[0m",
            "\u001b[0;31mNameError\u001b[0m                                 Traceback (most recent call last)",
            "\u001b[0;32m<ipython-input-21-1ba5c28b810b>\u001b[0m in \u001b[0;36m<cell line: 18>\u001b[0;34m()\u001b[0m\n\u001b[1;32m     19\u001b[0m   \u001b[0mprint\u001b[0m\u001b[0;34m(\u001b[0m\u001b[0;34m\"RaduanAhamed\"\u001b[0m\u001b[0;34m)\u001b[0m\u001b[0;34m\u001b[0m\u001b[0;34m\u001b[0m\u001b[0m\n\u001b[1;32m     20\u001b[0m \u001b[0;32melse\u001b[0m\u001b[0;34m:\u001b[0m\u001b[0;34m\u001b[0m\u001b[0;34m\u001b[0m\u001b[0m\n\u001b[0;32m---> 21\u001b[0;31m   \u001b[0mPrint\u001b[0m\u001b[0;34m(\u001b[0m\u001b[0;34m\"Daffodil\"\u001b[0m\u001b[0;34m)\u001b[0m\u001b[0;34m\u001b[0m\u001b[0;34m\u001b[0m\u001b[0m\n\u001b[0m",
            "\u001b[0;31mNameError\u001b[0m: name 'Print' is not defined"
          ]
        }
      ]
    },
    {
      "cell_type": "code",
      "source": [
        "a = \"hello\"\n",
        "b = \"b2b2b2\"\n",
        "c = \"3g3g       \"\n",
        "\n",
        "d=a+b+c\n",
        "print(d)\n",
        "print(d.upper())\n",
        "print(d.lower())\n",
        "print(d.title())\n",
        "print(d.strip())\n",
        "print(d.capitalize())\n",
        "print(d.replace(\"hello\",\"python\"))\n",
        "print(d.split())\n",
        "x=d.find(\"3g3g\")\n",
        "print(x)\n",
        "print(d.count(\"b2\"))\n",
        "print(d.isalnum())\n"
      ],
      "metadata": {
        "colab": {
          "base_uri": "https://localhost:8080/"
        },
        "id": "HdFMFEbNZh63",
        "outputId": "503751b9-4c75-4b99-c3bf-15609bfc63bf"
      },
      "execution_count": null,
      "outputs": [
        {
          "output_type": "stream",
          "name": "stdout",
          "text": [
            "hellob2b2b23g3g       \n",
            "HELLOB2B2B23G3G       \n",
            "hellob2b2b23g3g       \n",
            "Hellob2B2B23G3G       \n",
            "hellob2b2b23g3g\n",
            "Hellob2b2b23g3g       \n",
            "pythonb2b2b23g3g       \n",
            "['hellob2b2b23g3g']\n",
            "11\n",
            "3\n",
            "False\n"
          ]
        }
      ]
    },
    {
      "cell_type": "code",
      "source": [
        "def cube(n):\n",
        "  return n**3\n",
        "\n",
        "x=map(cube,(1,3,4))\n",
        "y=list(x)\n",
        "print(y)"
      ],
      "metadata": {
        "colab": {
          "base_uri": "https://localhost:8080/"
        },
        "id": "Z5s3lutOgC99",
        "outputId": "0fb062ee-b8db-4f96-8282-47c0be6798af"
      },
      "execution_count": null,
      "outputs": [
        {
          "output_type": "stream",
          "name": "stdout",
          "text": [
            "[1, 27, 64]\n"
          ]
        }
      ]
    },
    {
      "cell_type": "code",
      "source": [
        "def cube(a,b):\n",
        "  return a**b\n",
        "x=map(cube,(1,3,4),(2,4,6))\n",
        "y=list(x)\n",
        "print(y)"
      ],
      "metadata": {
        "colab": {
          "base_uri": "https://localhost:8080/"
        },
        "id": "aNQ2ddalg9G-",
        "outputId": "75e8dd39-44e5-4eb7-8370-97a20aef76df"
      },
      "execution_count": null,
      "outputs": [
        {
          "output_type": "stream",
          "name": "stdout",
          "text": [
            "[1, 81, 4096]\n"
          ]
        }
      ]
    },
    {
      "cell_type": "code",
      "source": [
        "a=[1,3,6,8,2]\n",
        "b=[]\n",
        "for i in a:\n",
        "  if i%2 == 0:\n",
        "    b.append(i)\n",
        "print(b)"
      ],
      "metadata": {
        "colab": {
          "base_uri": "https://localhost:8080/"
        },
        "id": "-0fawJgaivbM",
        "outputId": "b15d24ab-7f95-4dbb-bac9-47f32cd61f91"
      },
      "execution_count": null,
      "outputs": [
        {
          "output_type": "stream",
          "name": "stdout",
          "text": [
            "[6, 8, 2]\n"
          ]
        }
      ]
    },
    {
      "cell_type": "code",
      "source": [],
      "metadata": {
        "id": "LmKIE1ypmJeU"
      },
      "execution_count": null,
      "outputs": []
    }
  ]
}