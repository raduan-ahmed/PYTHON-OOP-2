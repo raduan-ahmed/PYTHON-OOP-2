{
  "nbformat": 4,
  "nbformat_minor": 0,
  "metadata": {
    "colab": {
      "provenance": []
    },
    "kernelspec": {
      "name": "python3",
      "display_name": "Python 3"
    },
    "language_info": {
      "name": "python"
    }
  },
  "cells": [
    {
      "cell_type": "code",
      "execution_count": null,
      "metadata": {
        "colab": {
          "base_uri": "https://localhost:8080/"
        },
        "id": "DEdDkHbZnWaW",
        "outputId": "cfd429b4-3542-40ab-c1ee-e3d323fd10db"
      },
      "outputs": [
        {
          "output_type": "stream",
          "name": "stdout",
          "text": [
            "Person Constructor\n",
            "Raduan Ahamed\n",
            "Student Constructor\n",
            "Person Constructor\n",
            "Welcome Rafi Islam to 2022\n",
            "Teacher Constructor\n",
            "Person Constructor\n",
            "Welcome to Aminul Islam from 2023\n",
            "Admin Constructor\n",
            "Person Constructor\n",
            "Welcome to Rana Hasan from 2024\n",
            "Student Constructor\n",
            "Person Constructor\n",
            "1830\n",
            "Student Constructor\n",
            "Person Constructor\n",
            "1830\n",
            "Teacher Constructor\n",
            "Person Constructor\n",
            "Hafizur Rahman 2001 1222\n"
          ]
        }
      ],
      "source": [
        "class Person:\n",
        "  def __init__(self, fname, lname):\n",
        "    print(\"Person Constructor\")\n",
        "    self.firstname = fname\n",
        "    self.lastname = lname\n",
        "\n",
        "  def display(self):\n",
        "    print(self.firstname, self.lastname)\n",
        "\n",
        "class Student(Person):\n",
        "  def __init__(self, fname, lname,year):\n",
        "    print(\"Student Constructor\")\n",
        "    Person.__init__(self,fname, lname)\n",
        "    self.gra_year = year\n",
        "\n",
        "  def display(self):\n",
        "    print(\"Welcome\",self.firstname, self.lastname, \"to\", self.gra_year)\n",
        "\n",
        "class teacher(Person):\n",
        "  def __init__(self, fname, lname,year):\n",
        "    print(\"Teacher Constructor\")\n",
        "    Person.__init__(self,fname, lname)\n",
        "    self.join_gra_year = year\n",
        "  def display(self):\n",
        "    print(\"Welcome to\",self.firstname, self.lastname, \"from\", self.join_gra_year)\n",
        "\n",
        "class admin(Person):\n",
        "  def __init__(self, fname, lname,year):\n",
        "    print(\"Admin Constructor\")\n",
        "    Person.__init__(self,fname, lname)\n",
        "    self.join_gra_year = year\n",
        "  def display(self):\n",
        "    print(\"Welcome to\",self.firstname, self.lastname, \"from\", self.join_gra_year)\n",
        "\n",
        "class Alumni_stud(Student):\n",
        "  def __init__(self, fname, lname,year,id):\n",
        "    Student.__init__(self,fname, lname, year)\n",
        "    self.id = id\n",
        "  def display(self):\n",
        "    print(self.id)\n",
        "\n",
        "\n",
        "class current_stud(Student):\n",
        "  def __init__(self, fname, lname,year,id):\n",
        "    Student.__init__(self,fname, lname, year)\n",
        "    self.id = id\n",
        "  def display(self):\n",
        "    print(self.id)\n",
        "\n",
        "class employee(teacher,admin):\n",
        "  def __init__(self, fname, lname,year,id):\n",
        "    super().__init__(fname, lname, year)\n",
        "    self.id = id\n",
        "  def display(self):\n",
        "    print(self.firstname, self.lastname,self.join_gra_year,self.id)\n",
        "\n",
        "\n",
        "\n",
        "r1 = Person(\"Raduan\", \"Ahamed\")\n",
        "r1.display()\n",
        "\n",
        "s1 = Student(\"Rafi\",\"Islam\",2022)\n",
        "s1.display()\n",
        "\n",
        "t1 = teacher(\"Aminul\",\"Islam\",2023)\n",
        "t1.display()\n",
        "\n",
        "a1 = admin(\"Rana\",\"Hasan\",2024)\n",
        "a1.display()\n",
        "\n",
        "alumn = Alumni_stud(\"Rakib\",\"Hossain\",2025,1830)\n",
        "alumn.display()\n",
        "\n",
        "curr_stu = current_stud(\"Rakib\",\"Hossain\",2025,1830)\n",
        "curr_stu.display()\n",
        "\n",
        "e1 = employee(\"Hafizur\",\"Rahman\",2001,1222)\n",
        "e1.display()"
      ]
    }
  ]
}